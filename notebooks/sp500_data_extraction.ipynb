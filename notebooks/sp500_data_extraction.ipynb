{
 "cells": [
  {
   "cell_type": "code",
   "execution_count": 1,
   "id": "b5318b75",
   "metadata": {},
   "outputs": [],
   "source": [
    "import pandas as pd\n",
    "import pybroker\n",
    "from pybroker.data import DataSource"
   ]
  },
  {
   "cell_type": "code",
   "execution_count": null,
   "id": "e469431b",
   "metadata": {},
   "outputs": [],
   "source": [
    "class CSVDataSource(DataSource):\n",
    "\n",
    "    def __init__(self):\n",
    "        super().__init__()\n",
    "        # Register custom columns in the CSV.\n",
    "        pybroker.register_columns('rsi')\n",
    "\n",
    "    def _fetch_data(self, symbols, start_date, end_date, _timeframe, _adjust):\n",
    "        df = pd.read_csv('data/prices.csv')\n",
    "        df = df[df['symbol'].isin(symbols)]\n",
    "        df['date'] = pd.to_datetime(df['date'])\n",
    "        return df[(df['date'] >= start_date) & (df['date'] <= end_date)]"
   ]
  },
  {
   "cell_type": "code",
   "execution_count": null,
   "id": "f11a0595",
   "metadata": {},
   "outputs": [],
   "source": [
    "# notebook中清洗数据，建立指标，训练；回测用pybroker\n",
    "# "
   ]
  },
  {
   "cell_type": "code",
   "execution_count": 3,
   "id": "f8c296d9",
   "metadata": {},
   "outputs": [
    {
     "data": {
      "text/html": [
       "<div>\n",
       "<style scoped>\n",
       "    .dataframe tbody tr th:only-of-type {\n",
       "        vertical-align: middle;\n",
       "    }\n",
       "\n",
       "    .dataframe tbody tr th {\n",
       "        vertical-align: top;\n",
       "    }\n",
       "\n",
       "    .dataframe thead th {\n",
       "        text-align: right;\n",
       "    }\n",
       "</style>\n",
       "<table border=\"1\" class=\"dataframe\">\n",
       "  <thead>\n",
       "    <tr style=\"text-align: right;\">\n",
       "      <th></th>\n",
       "      <th>Date</th>\n",
       "      <th>Symbol</th>\n",
       "      <th>Adj Close</th>\n",
       "      <th>Close</th>\n",
       "      <th>High</th>\n",
       "      <th>Low</th>\n",
       "      <th>Open</th>\n",
       "      <th>Volume</th>\n",
       "    </tr>\n",
       "  </thead>\n",
       "  <tbody>\n",
       "    <tr>\n",
       "      <th>0</th>\n",
       "      <td>2010-01-04</td>\n",
       "      <td>MMM</td>\n",
       "      <td>40.553387</td>\n",
       "      <td>69.414719</td>\n",
       "      <td>69.774246</td>\n",
       "      <td>69.122070</td>\n",
       "      <td>69.473244</td>\n",
       "      <td>3640265.0</td>\n",
       "    </tr>\n",
       "    <tr>\n",
       "      <th>1</th>\n",
       "      <td>2010-01-05</td>\n",
       "      <td>MMM</td>\n",
       "      <td>40.299385</td>\n",
       "      <td>68.979935</td>\n",
       "      <td>69.590302</td>\n",
       "      <td>68.311035</td>\n",
       "      <td>69.230766</td>\n",
       "      <td>3405012.0</td>\n",
       "    </tr>\n",
       "    <tr>\n",
       "      <th>2</th>\n",
       "      <td>2010-01-06</td>\n",
       "      <td>MMM</td>\n",
       "      <td>40.870914</td>\n",
       "      <td>69.958191</td>\n",
       "      <td>70.735786</td>\n",
       "      <td>69.824417</td>\n",
       "      <td>70.133781</td>\n",
       "      <td>6301126.0</td>\n",
       "    </tr>\n",
       "    <tr>\n",
       "      <th>3</th>\n",
       "      <td>2010-01-07</td>\n",
       "      <td>MMM</td>\n",
       "      <td>40.900219</td>\n",
       "      <td>70.008362</td>\n",
       "      <td>70.033447</td>\n",
       "      <td>68.662209</td>\n",
       "      <td>69.665550</td>\n",
       "      <td>5346240.0</td>\n",
       "    </tr>\n",
       "    <tr>\n",
       "      <th>4</th>\n",
       "      <td>2010-01-08</td>\n",
       "      <td>MMM</td>\n",
       "      <td>41.188416</td>\n",
       "      <td>70.501671</td>\n",
       "      <td>70.501671</td>\n",
       "      <td>69.648827</td>\n",
       "      <td>69.974915</td>\n",
       "      <td>4073337.0</td>\n",
       "    </tr>\n",
       "  </tbody>\n",
       "</table>\n",
       "</div>"
      ],
      "text/plain": [
       "         Date Symbol  Adj Close      Close       High        Low       Open  \\\n",
       "0  2010-01-04    MMM  40.553387  69.414719  69.774246  69.122070  69.473244   \n",
       "1  2010-01-05    MMM  40.299385  68.979935  69.590302  68.311035  69.230766   \n",
       "2  2010-01-06    MMM  40.870914  69.958191  70.735786  69.824417  70.133781   \n",
       "3  2010-01-07    MMM  40.900219  70.008362  70.033447  68.662209  69.665550   \n",
       "4  2010-01-08    MMM  41.188416  70.501671  70.501671  69.648827  69.974915   \n",
       "\n",
       "      Volume  \n",
       "0  3640265.0  \n",
       "1  3405012.0  \n",
       "2  6301126.0  \n",
       "3  5346240.0  \n",
       "4  4073337.0  "
      ]
     },
     "execution_count": 3,
     "metadata": {},
     "output_type": "execute_result"
    }
   ],
   "source": [
    "raw_sp500 = pd.read_csv(\"../data/raw/sp500_stocks.csv\")\n",
    "raw_sp500.head()"
   ]
  },
  {
   "cell_type": "code",
   "execution_count": 11,
   "id": "64c8cc33",
   "metadata": {},
   "outputs": [
    {
     "data": {
      "text/plain": [
       "'2010-01-08'"
      ]
     },
     "execution_count": 11,
     "metadata": {},
     "output_type": "execute_result"
    }
   ],
   "source": [
    "raw_sp500.loc[4,\"Date\"]"
   ]
  },
  {
   "cell_type": "code",
   "execution_count": 17,
   "id": "b6a1e7c2",
   "metadata": {},
   "outputs": [],
   "source": [
    "df_sp500_20170117 = raw_sp500[raw_sp500.Date==\"2017-01-17\"]\n",
    "df_sp500_20170117.to_csv(\"../data/processed/sp500_20170117.csv\")"
   ]
  },
  {
   "cell_type": "code",
   "execution_count": 18,
   "id": "38427221",
   "metadata": {},
   "outputs": [],
   "source": [
    "spx_list = list(raw_sp500[raw_sp500.Date==\"2017-01-17\"].Symbol)"
   ]
  },
  {
   "cell_type": "code",
   "execution_count": 2,
   "id": "815f789f",
   "metadata": {},
   "outputs": [],
   "source": [
    "from pybroker import YFinance"
   ]
  },
  {
   "cell_type": "code",
   "execution_count": 30,
   "id": "f5476e44",
   "metadata": {
    "scrolled": true
   },
   "outputs": [
    {
     "name": "stdout",
     "output_type": "stream",
     "text": [
      "Loading bar data...\n"
     ]
    },
    {
     "name": "stderr",
     "output_type": "stream",
     "text": [
      "D:\\Anaconda3\\envs\\quantenv\\lib\\site-packages\\pybroker\\common.py:227: UserWarning: Parsing dates in %d/%m/%Y format when dayfirst=False (the default) was specified. Pass `dayfirst=True` or specify a format to silence this warning.\n",
      "  return pd.to_datetime(date).to_pydatetime()\n",
      "[                       1%%                      ]  4 of 503 completedWARNING:urllib3.connectionpool:Connection pool is full, discarding connection: query2.finance.yahoo.com. Connection pool size: 10\n",
      "[**********************99%%**********************]  499 of 503 completedWARNING:urllib3.connectionpool:Connection pool is full, discarding connection: query2.finance.yahoo.com. Connection pool size: 10\n",
      "[*********************100%%**********************]  501 of 503 completedWARNING:urllib3.connectionpool:Connection pool is full, discarding connection: query2.finance.yahoo.com. Connection pool size: 10\n",
      "[*********************100%%**********************]  503 of 503 completed\n"
     ]
    },
    {
     "name": "stdout",
     "output_type": "stream",
     "text": [
      "Loaded bar data: 0:00:40 \n",
      "\n"
     ]
    }
   ],
   "source": [
    "yfinance = YFinance()\n",
    "# YFinance().query(spx_list[0:3], start_date='1/1/2017',end_date='15/1/2017', _timeframe='1d', _adjust='all')\n",
    "df = yfinance.query(spx_list, start_date='1/1/2017', end_date='15/5/2024')\n",
    "# using spx500, 2017-01-17 compositions\n",
    "df.to_csv(\"../data/raw/spx500_2017-2024.csv\")"
   ]
  },
  {
   "cell_type": "code",
   "execution_count": 31,
   "id": "3a441b8e",
   "metadata": {
    "scrolled": true
   },
   "outputs": [
    {
     "data": {
      "text/html": [
       "<div>\n",
       "<style scoped>\n",
       "    .dataframe tbody tr th:only-of-type {\n",
       "        vertical-align: middle;\n",
       "    }\n",
       "\n",
       "    .dataframe tbody tr th {\n",
       "        vertical-align: top;\n",
       "    }\n",
       "\n",
       "    .dataframe thead th {\n",
       "        text-align: right;\n",
       "    }\n",
       "</style>\n",
       "<table border=\"1\" class=\"dataframe\">\n",
       "  <thead>\n",
       "    <tr style=\"text-align: right;\">\n",
       "      <th></th>\n",
       "      <th>Unnamed: 0</th>\n",
       "      <th>date</th>\n",
       "      <th>symbol</th>\n",
       "      <th>open</th>\n",
       "      <th>high</th>\n",
       "      <th>low</th>\n",
       "      <th>close</th>\n",
       "      <th>volume</th>\n",
       "      <th>adj_close</th>\n",
       "    </tr>\n",
       "  </thead>\n",
       "  <tbody>\n",
       "    <tr>\n",
       "      <th>0</th>\n",
       "      <td>0</td>\n",
       "      <td>2017-01-03</td>\n",
       "      <td>A</td>\n",
       "      <td>45.930000</td>\n",
       "      <td>46.750000</td>\n",
       "      <td>45.740002</td>\n",
       "      <td>46.490002</td>\n",
       "      <td>1739600.0</td>\n",
       "      <td>43.975956</td>\n",
       "    </tr>\n",
       "    <tr>\n",
       "      <th>1</th>\n",
       "      <td>1</td>\n",
       "      <td>2017-01-03</td>\n",
       "      <td>AAL</td>\n",
       "      <td>47.279999</td>\n",
       "      <td>47.340000</td>\n",
       "      <td>46.139999</td>\n",
       "      <td>46.299999</td>\n",
       "      <td>6737800.0</td>\n",
       "      <td>44.741226</td>\n",
       "    </tr>\n",
       "    <tr>\n",
       "      <th>2</th>\n",
       "      <td>2</td>\n",
       "      <td>2017-01-03</td>\n",
       "      <td>AAPL</td>\n",
       "      <td>28.950001</td>\n",
       "      <td>29.082500</td>\n",
       "      <td>28.690001</td>\n",
       "      <td>29.037500</td>\n",
       "      <td>115127600.0</td>\n",
       "      <td>26.952707</td>\n",
       "    </tr>\n",
       "    <tr>\n",
       "      <th>3</th>\n",
       "      <td>3</td>\n",
       "      <td>2017-01-03</td>\n",
       "      <td>ABBV</td>\n",
       "      <td>62.919998</td>\n",
       "      <td>63.029999</td>\n",
       "      <td>61.939999</td>\n",
       "      <td>62.410000</td>\n",
       "      <td>9328200.0</td>\n",
       "      <td>45.028652</td>\n",
       "    </tr>\n",
       "    <tr>\n",
       "      <th>4</th>\n",
       "      <td>4</td>\n",
       "      <td>2017-01-03</td>\n",
       "      <td>ABNB</td>\n",
       "      <td>NaN</td>\n",
       "      <td>NaN</td>\n",
       "      <td>NaN</td>\n",
       "      <td>NaN</td>\n",
       "      <td>NaN</td>\n",
       "      <td>NaN</td>\n",
       "    </tr>\n",
       "  </tbody>\n",
       "</table>\n",
       "</div>"
      ],
      "text/plain": [
       "   Unnamed: 0        date symbol       open       high        low      close  \\\n",
       "0           0  2017-01-03      A  45.930000  46.750000  45.740002  46.490002   \n",
       "1           1  2017-01-03    AAL  47.279999  47.340000  46.139999  46.299999   \n",
       "2           2  2017-01-03   AAPL  28.950001  29.082500  28.690001  29.037500   \n",
       "3           3  2017-01-03   ABBV  62.919998  63.029999  61.939999  62.410000   \n",
       "4           4  2017-01-03   ABNB        NaN        NaN        NaN        NaN   \n",
       "\n",
       "        volume  adj_close  \n",
       "0    1739600.0  43.975956  \n",
       "1    6737800.0  44.741226  \n",
       "2  115127600.0  26.952707  \n",
       "3    9328200.0  45.028652  \n",
       "4          NaN        NaN  "
      ]
     },
     "execution_count": 31,
     "metadata": {},
     "output_type": "execute_result"
    }
   ],
   "source": [
    "df_test = pd.read_csv(\"../data/raw/spx500_2017-2024.csv\")\n",
    "df_test.head()"
   ]
  },
  {
   "cell_type": "code",
   "execution_count": 42,
   "id": "d74bbc5b",
   "metadata": {},
   "outputs": [],
   "source": [
    "df_test01 = df_test[~df_test.symbol.isin(list(df_test[df_test.open.isnull()].symbol.drop_duplicates()))]"
   ]
  },
  {
   "cell_type": "code",
   "execution_count": 44,
   "id": "4a521227",
   "metadata": {},
   "outputs": [],
   "source": [
    "df_test01.to_csv(\"../data/processed/spx500_2017-2024_notnull.csv\")"
   ]
  },
  {
   "cell_type": "code",
   "execution_count": null,
   "id": "04fde4e2",
   "metadata": {},
   "outputs": [],
   "source": [
    "# 特征工程\n",
    "\n",
    "# 聚类"
   ]
  }
 ],
 "metadata": {
  "kernelspec": {
   "display_name": "quantenv",
   "language": "python",
   "name": "quantenv"
  },
  "language_info": {
   "codemirror_mode": {
    "name": "ipython",
    "version": 3
   },
   "file_extension": ".py",
   "mimetype": "text/x-python",
   "name": "python",
   "nbconvert_exporter": "python",
   "pygments_lexer": "ipython3",
   "version": "3.9.19"
  }
 },
 "nbformat": 4,
 "nbformat_minor": 5
}
